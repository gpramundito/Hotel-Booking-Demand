{
 "cells": [
  {
   "cell_type": "markdown",
   "metadata": {},
   "source": [
    "# Hotel Booking Demand"
   ]
  },
  {
   "cell_type": "markdown",
   "metadata": {},
   "source": [
    "## Business Problem Understanding"
   ]
  },
  {
   "cell_type": "markdown",
   "metadata": {},
   "source": [
    "**Context**\n",
    "\n",
    "In the hospitality industry, efficient management of hotel reservations is necessary to optimize revenue. Booking cancellations could potentially disrupt operational schedules and reduce potential revenues. Being able to predict booking cancellations is important for implementing strategies to reduce its impact on scheduling and operations."
   ]
  },
  {
   "cell_type": "markdown",
   "metadata": {},
   "source": [
    "**Problem Statement**\n",
    "\n",
    "Booking cancellation can cause potential revenue loss, underutilization of hotel assets, and operational schedule disruption. It is difficult to predict cancellation in advance. Therefore, it is necessary to develop a solution that could predict booking cancellations in advance to minimize potential loss and disruptions."
   ]
  },
  {
   "cell_type": "markdown",
   "metadata": {},
   "source": [
    "**Goals**\n",
    "\n",
    "The goal is to develop a model that could accurately predict booking cancellations before they occur. This model uses historical customer booking data to identify potential cancellations. This could help the hotel in implementing proactive measures to the particular booking such as dynamic pricing or discount offers to discourage cancellation or mitigate potential revenue loss."
   ]
  },
  {
   "cell_type": "markdown",
   "metadata": {},
   "source": [
    "**Analytic Approach**\n",
    "\n",
    "The approach involves preprocessing the data, selecting relevant features (such as previous cancellations, booking changes), and training machine learning models (such as logistic regression, decision trees, or ensemble methods) to predict the probability of a booking being canceled. "
   ]
  },
  {
   "cell_type": "markdown",
   "metadata": {},
   "source": [
    "**Metric Evaluation**\n",
    "\n",
    "The performance of the models will be evaluated using metrics such as accuracy, precision, recall, and F1-score. These metrics will assess the model's ability to correctly identify bookings as either canceled or not canceled. For this case, the evaluation metric is focusing on the recall scores of the cancelled bookings."
   ]
  },
  {
   "cell_type": "markdown",
   "metadata": {},
   "source": [
    "## Data Understanding"
   ]
  },
  {
   "cell_type": "markdown",
   "metadata": {},
   "source": [
    "- This data set contains booking information for a hotel located in Portugal, and includes information regarding room reservation for respective customers.\n",
    "- All personally identifying information has been removed from the data.\n",
    "\n",
    "\n",
    "**Features**\n",
    "\n",
    "-\t*country*: Country of origin.\n",
    "-\t*market_segment*: Market segment designation. \n",
    "-\t*previous_cancellations*: Number of previous bookings that were cancelled by the customer prior to the current booking.\n",
    "-\t*booking_changes*: Number of changes/amendments made to the booking from the moment the booking was entered on the PMS until the moment of check-in or cancellation.\n",
    "-\t*deposit_type*: Indication on if the customer made a deposit to guarantee the booking. \n",
    "-\t*days_in_waiting_list*: Number of days the booking was in the waiting list before it was confirmed to the customer.\n",
    "-\t*customer_type*: Type of booking.\n",
    "-\t*reserved_room_type*: Code of room type reserved. Code is presented instead of designation for anonymity reasons.\n",
    "-\t*required_car_parking_space*: Number of car parking spaces required by the customer.\n",
    "-\t*total_of_special_request*: Number of special requests made by the customer (e.g. twin bed or high floor).\n",
    "-\t*is_canceled*: Value indicating if the booking was canceled (1) or not (0).\n"
   ]
  },
  {
   "cell_type": "markdown",
   "metadata": {},
   "source": [
    "## Data Cleaning & Preprocessing"
   ]
  },
  {
   "cell_type": "code",
   "execution_count": 108,
   "metadata": {},
   "outputs": [],
   "source": [
    "import pandas as pd \n",
    "import numpy as np\n",
    "import matplotlib.pyplot as plt\n",
    "import seaborn as sns\n",
    "\n",
    "from sklearn.model_selection import train_test_split\n",
    "from sklearn.preprocessing import StandardScaler, OneHotEncoder\n",
    "from sklearn.compose import ColumnTransformer\n",
    "from sklearn.pipeline import Pipeline\n",
    "from sklearn.impute import SimpleImputer\n",
    "from sklearn.ensemble import RandomForestClassifier\n",
    "from sklearn.metrics import classification_report, roc_auc_score\n",
    "from sklearn.metrics import make_scorer, recall_score\n",
    "\n",
    "\n",
    "from sklearn.preprocessing import LabelEncoder\n",
    "from sklearn.feature_selection import chi2\n",
    "from scipy.stats import pointbiserialr\n",
    "\n",
    "from sklearn.model_selection import GridSearchCV"
   ]
  },
  {
   "cell_type": "code",
   "execution_count": 109,
   "metadata": {},
   "outputs": [
    {
     "data": {
      "text/html": [
       "<div>\n",
       "<style scoped>\n",
       "    .dataframe tbody tr th:only-of-type {\n",
       "        vertical-align: middle;\n",
       "    }\n",
       "\n",
       "    .dataframe tbody tr th {\n",
       "        vertical-align: top;\n",
       "    }\n",
       "\n",
       "    .dataframe thead th {\n",
       "        text-align: right;\n",
       "    }\n",
       "</style>\n",
       "<table border=\"1\" class=\"dataframe\">\n",
       "  <thead>\n",
       "    <tr style=\"text-align: right;\">\n",
       "      <th></th>\n",
       "      <th>country</th>\n",
       "      <th>market_segment</th>\n",
       "      <th>previous_cancellations</th>\n",
       "      <th>booking_changes</th>\n",
       "      <th>deposit_type</th>\n",
       "      <th>days_in_waiting_list</th>\n",
       "      <th>customer_type</th>\n",
       "      <th>reserved_room_type</th>\n",
       "      <th>required_car_parking_spaces</th>\n",
       "      <th>total_of_special_requests</th>\n",
       "      <th>is_canceled</th>\n",
       "    </tr>\n",
       "  </thead>\n",
       "  <tbody>\n",
       "    <tr>\n",
       "      <th>0</th>\n",
       "      <td>IRL</td>\n",
       "      <td>Offline TA/TO</td>\n",
       "      <td>0</td>\n",
       "      <td>0</td>\n",
       "      <td>No Deposit</td>\n",
       "      <td>0</td>\n",
       "      <td>Transient-Party</td>\n",
       "      <td>A</td>\n",
       "      <td>0</td>\n",
       "      <td>0</td>\n",
       "      <td>0</td>\n",
       "    </tr>\n",
       "    <tr>\n",
       "      <th>1</th>\n",
       "      <td>FRA</td>\n",
       "      <td>Online TA</td>\n",
       "      <td>0</td>\n",
       "      <td>0</td>\n",
       "      <td>No Deposit</td>\n",
       "      <td>0</td>\n",
       "      <td>Transient</td>\n",
       "      <td>A</td>\n",
       "      <td>0</td>\n",
       "      <td>2</td>\n",
       "      <td>0</td>\n",
       "    </tr>\n",
       "    <tr>\n",
       "      <th>2</th>\n",
       "      <td>PRT</td>\n",
       "      <td>Online TA</td>\n",
       "      <td>0</td>\n",
       "      <td>1</td>\n",
       "      <td>No Deposit</td>\n",
       "      <td>0</td>\n",
       "      <td>Transient</td>\n",
       "      <td>A</td>\n",
       "      <td>0</td>\n",
       "      <td>2</td>\n",
       "      <td>0</td>\n",
       "    </tr>\n",
       "    <tr>\n",
       "      <th>3</th>\n",
       "      <td>NLD</td>\n",
       "      <td>Online TA</td>\n",
       "      <td>0</td>\n",
       "      <td>0</td>\n",
       "      <td>No Deposit</td>\n",
       "      <td>0</td>\n",
       "      <td>Transient</td>\n",
       "      <td>A</td>\n",
       "      <td>0</td>\n",
       "      <td>1</td>\n",
       "      <td>1</td>\n",
       "    </tr>\n",
       "    <tr>\n",
       "      <th>4</th>\n",
       "      <td>PRT</td>\n",
       "      <td>Online TA</td>\n",
       "      <td>0</td>\n",
       "      <td>2</td>\n",
       "      <td>No Deposit</td>\n",
       "      <td>0</td>\n",
       "      <td>Transient</td>\n",
       "      <td>A</td>\n",
       "      <td>0</td>\n",
       "      <td>2</td>\n",
       "      <td>0</td>\n",
       "    </tr>\n",
       "    <tr>\n",
       "      <th>...</th>\n",
       "      <td>...</td>\n",
       "      <td>...</td>\n",
       "      <td>...</td>\n",
       "      <td>...</td>\n",
       "      <td>...</td>\n",
       "      <td>...</td>\n",
       "      <td>...</td>\n",
       "      <td>...</td>\n",
       "      <td>...</td>\n",
       "      <td>...</td>\n",
       "      <td>...</td>\n",
       "    </tr>\n",
       "    <tr>\n",
       "      <th>83568</th>\n",
       "      <td>PRT</td>\n",
       "      <td>Online TA</td>\n",
       "      <td>0</td>\n",
       "      <td>0</td>\n",
       "      <td>No Deposit</td>\n",
       "      <td>0</td>\n",
       "      <td>Contract</td>\n",
       "      <td>A</td>\n",
       "      <td>0</td>\n",
       "      <td>3</td>\n",
       "      <td>1</td>\n",
       "    </tr>\n",
       "    <tr>\n",
       "      <th>83569</th>\n",
       "      <td>FRA</td>\n",
       "      <td>Online TA</td>\n",
       "      <td>0</td>\n",
       "      <td>0</td>\n",
       "      <td>No Deposit</td>\n",
       "      <td>0</td>\n",
       "      <td>Transient</td>\n",
       "      <td>D</td>\n",
       "      <td>0</td>\n",
       "      <td>2</td>\n",
       "      <td>0</td>\n",
       "    </tr>\n",
       "    <tr>\n",
       "      <th>83570</th>\n",
       "      <td>PRT</td>\n",
       "      <td>Online TA</td>\n",
       "      <td>0</td>\n",
       "      <td>1</td>\n",
       "      <td>No Deposit</td>\n",
       "      <td>0</td>\n",
       "      <td>Transient</td>\n",
       "      <td>D</td>\n",
       "      <td>0</td>\n",
       "      <td>3</td>\n",
       "      <td>0</td>\n",
       "    </tr>\n",
       "    <tr>\n",
       "      <th>83571</th>\n",
       "      <td>CN</td>\n",
       "      <td>Offline TA/TO</td>\n",
       "      <td>0</td>\n",
       "      <td>0</td>\n",
       "      <td>No Deposit</td>\n",
       "      <td>0</td>\n",
       "      <td>Transient-Party</td>\n",
       "      <td>A</td>\n",
       "      <td>0</td>\n",
       "      <td>0</td>\n",
       "      <td>0</td>\n",
       "    </tr>\n",
       "    <tr>\n",
       "      <th>83572</th>\n",
       "      <td>PRT</td>\n",
       "      <td>Groups</td>\n",
       "      <td>0</td>\n",
       "      <td>0</td>\n",
       "      <td>Non Refund</td>\n",
       "      <td>0</td>\n",
       "      <td>Transient</td>\n",
       "      <td>A</td>\n",
       "      <td>0</td>\n",
       "      <td>0</td>\n",
       "      <td>1</td>\n",
       "    </tr>\n",
       "  </tbody>\n",
       "</table>\n",
       "<p>83573 rows × 11 columns</p>\n",
       "</div>"
      ],
      "text/plain": [
       "      country market_segment  previous_cancellations  booking_changes  \\\n",
       "0      IRL     Offline TA/TO  0                       0                 \n",
       "1      FRA     Online TA      0                       0                 \n",
       "2      PRT     Online TA      0                       1                 \n",
       "3      NLD     Online TA      0                       0                 \n",
       "4      PRT     Online TA      0                       2                 \n",
       "...    ...           ...     ..                      ..                 \n",
       "83568  PRT     Online TA      0                       0                 \n",
       "83569  FRA     Online TA      0                       0                 \n",
       "83570  PRT     Online TA      0                       1                 \n",
       "83571  CN      Offline TA/TO  0                       0                 \n",
       "83572  PRT     Groups         0                       0                 \n",
       "\n",
       "      deposit_type  days_in_waiting_list    customer_type reserved_room_type  \\\n",
       "0      No Deposit   0                     Transient-Party  A                   \n",
       "1      No Deposit   0                     Transient        A                   \n",
       "2      No Deposit   0                     Transient        A                   \n",
       "3      No Deposit   0                     Transient        A                   \n",
       "4      No Deposit   0                     Transient        A                   \n",
       "...           ...  ..                           ...       ..                   \n",
       "83568  No Deposit   0                     Contract         A                   \n",
       "83569  No Deposit   0                     Transient        D                   \n",
       "83570  No Deposit   0                     Transient        D                   \n",
       "83571  No Deposit   0                     Transient-Party  A                   \n",
       "83572  Non Refund   0                     Transient        A                   \n",
       "\n",
       "       required_car_parking_spaces  total_of_special_requests  is_canceled  \n",
       "0      0                            0                          0            \n",
       "1      0                            2                          0            \n",
       "2      0                            2                          0            \n",
       "3      0                            1                          1            \n",
       "4      0                            2                          0            \n",
       "...   ..                           ..                         ..            \n",
       "83568  0                            3                          1            \n",
       "83569  0                            2                          0            \n",
       "83570  0                            3                          0            \n",
       "83571  0                            0                          0            \n",
       "83572  0                            0                          1            \n",
       "\n",
       "[83573 rows x 11 columns]"
      ]
     },
     "execution_count": 109,
     "metadata": {},
     "output_type": "execute_result"
    }
   ],
   "source": [
    "df = pd.read_csv('data_hotel_booking_demand.csv')\n",
    "df"
   ]
  },
  {
   "cell_type": "code",
   "execution_count": 110,
   "metadata": {},
   "outputs": [
    {
     "name": "stdout",
     "output_type": "stream",
     "text": [
      "<class 'pandas.core.frame.DataFrame'>\n",
      "RangeIndex: 83573 entries, 0 to 83572\n",
      "Data columns (total 11 columns):\n",
      " #   Column                       Non-Null Count  Dtype \n",
      "---  ------                       --------------  ----- \n",
      " 0   country                      83222 non-null  object\n",
      " 1   market_segment               83573 non-null  object\n",
      " 2   previous_cancellations       83573 non-null  int64 \n",
      " 3   booking_changes              83573 non-null  int64 \n",
      " 4   deposit_type                 83573 non-null  object\n",
      " 5   days_in_waiting_list         83573 non-null  int64 \n",
      " 6   customer_type                83573 non-null  object\n",
      " 7   reserved_room_type           83573 non-null  object\n",
      " 8   required_car_parking_spaces  83573 non-null  int64 \n",
      " 9   total_of_special_requests    83573 non-null  int64 \n",
      " 10  is_canceled                  83573 non-null  int64 \n",
      "dtypes: int64(6), object(5)\n",
      "memory usage: 7.0+ MB\n"
     ]
    }
   ],
   "source": [
    "df.info()"
   ]
  },
  {
   "cell_type": "code",
   "execution_count": 111,
   "metadata": {},
   "outputs": [
    {
     "data": {
      "text/html": [
       "<div>\n",
       "<style scoped>\n",
       "    .dataframe tbody tr th:only-of-type {\n",
       "        vertical-align: middle;\n",
       "    }\n",
       "\n",
       "    .dataframe tbody tr th {\n",
       "        vertical-align: top;\n",
       "    }\n",
       "\n",
       "    .dataframe thead th {\n",
       "        text-align: right;\n",
       "    }\n",
       "</style>\n",
       "<table border=\"1\" class=\"dataframe\">\n",
       "  <thead>\n",
       "    <tr style=\"text-align: right;\">\n",
       "      <th></th>\n",
       "      <th>Column Name</th>\n",
       "      <th>Number of Unique</th>\n",
       "      <th>Unique Sample</th>\n",
       "    </tr>\n",
       "  </thead>\n",
       "  <tbody>\n",
       "    <tr>\n",
       "      <th>0</th>\n",
       "      <td>country</td>\n",
       "      <td>162</td>\n",
       "      <td>[IRL, FRA, PRT, NLD, ESP, UMI, CN, LUX, BRA, BEL, JPN, DEU, ITA, CHE, GBR, AGO, SRB, COL, CHN, SWE, AUT, CIV, CZE, POL, USA, SGP, RUS, ROU, DNK, IND, MAR, PHL, ARG, ISL, ZAF, LBN, MOZ, TUR, BGD, MEX, CAF, NOR, FIN, UKR, EGY, ISR, nan, KOR, AZE, HUN, AUS, EST, CHL, SVN, PRY, ABW, ALB, LTU, ARE, HRV, SAU, NZL, LVA, ATA, KAZ, DZA, TWN, CRI, BIH, BGR, IRQ, OMN, VEN, IDN, GEO, MLT, IRN, BLR, URY, LBY, TUN, BEN, MYS, MWI, GRC, CYP, CPV, HKG, PRI, MKD, MUS, IMN, PAN, NGA, GLP, KHM, PER, QAT, SEN, MAC, ...]</td>\n",
       "    </tr>\n",
       "    <tr>\n",
       "      <th>1</th>\n",
       "      <td>market_segment</td>\n",
       "      <td>8</td>\n",
       "      <td>[Offline TA/TO, Online TA, Direct, Groups, Corporate, Complementary, Aviation, Undefined]</td>\n",
       "    </tr>\n",
       "    <tr>\n",
       "      <th>2</th>\n",
       "      <td>previous_cancellations</td>\n",
       "      <td>15</td>\n",
       "      <td>[0, 1, 25, 2, 3, 11, 24, 13, 6, 26, 14, 4, 19, 5, 21]</td>\n",
       "    </tr>\n",
       "    <tr>\n",
       "      <th>3</th>\n",
       "      <td>booking_changes</td>\n",
       "      <td>19</td>\n",
       "      <td>[0, 1, 2, 5, 3, 4, 6, 7, 9, 8, 17, 10, 13, 12, 14, 21, 16, 20, 15]</td>\n",
       "    </tr>\n",
       "    <tr>\n",
       "      <th>4</th>\n",
       "      <td>deposit_type</td>\n",
       "      <td>3</td>\n",
       "      <td>[No Deposit, Non Refund, Refundable]</td>\n",
       "    </tr>\n",
       "    <tr>\n",
       "      <th>5</th>\n",
       "      <td>days_in_waiting_list</td>\n",
       "      <td>115</td>\n",
       "      <td>[0, 3, 39, 87, 77, 215, 97, 162, 46, 79, 4, 31, 122, 34, 57, 259, 50, 17, 32, 43, 75, 69, 44, 22, 113, 58, 38, 65, 48, 236, 176, 25, 108, 91, 19, 160, 68, 28, 63, 35, 42, 59, 24, 8, 183, 187, 21, 111, 56, 98, 101, 15, 16, 47, 93, 45, 14, 70, 10, 49, 178, 99, 60, 40, 85, 223, 6, 33, 391, 20, 1, 41, 147, 55, 80, 379, 150, 61, 330, 174, 107, 96, 18, 62, 13, 30, 120, 27, 207, 71, 2, 76, 125, 5, 9, 224, 53, 83, 84, 12, ...]</td>\n",
       "    </tr>\n",
       "    <tr>\n",
       "      <th>6</th>\n",
       "      <td>customer_type</td>\n",
       "      <td>4</td>\n",
       "      <td>[Transient-Party, Transient, Contract, Group]</td>\n",
       "    </tr>\n",
       "    <tr>\n",
       "      <th>7</th>\n",
       "      <td>reserved_room_type</td>\n",
       "      <td>10</td>\n",
       "      <td>[A, E, D, F, B, G, C, H, L, P]</td>\n",
       "    </tr>\n",
       "    <tr>\n",
       "      <th>8</th>\n",
       "      <td>required_car_parking_spaces</td>\n",
       "      <td>5</td>\n",
       "      <td>[0, 1, 2, 8, 3]</td>\n",
       "    </tr>\n",
       "    <tr>\n",
       "      <th>9</th>\n",
       "      <td>total_of_special_requests</td>\n",
       "      <td>6</td>\n",
       "      <td>[0, 2, 1, 3, 4, 5]</td>\n",
       "    </tr>\n",
       "    <tr>\n",
       "      <th>10</th>\n",
       "      <td>is_canceled</td>\n",
       "      <td>2</td>\n",
       "      <td>[0, 1]</td>\n",
       "    </tr>\n",
       "  </tbody>\n",
       "</table>\n",
       "</div>"
      ],
      "text/plain": [
       "                    Column Name  Number of Unique  \\\n",
       "0   country                      162                \n",
       "1   market_segment               8                  \n",
       "2   previous_cancellations       15                 \n",
       "3   booking_changes              19                 \n",
       "4   deposit_type                 3                  \n",
       "5   days_in_waiting_list         115                \n",
       "6   customer_type                4                  \n",
       "7   reserved_room_type           10                 \n",
       "8   required_car_parking_spaces  5                  \n",
       "9   total_of_special_requests    6                  \n",
       "10  is_canceled                  2                  \n",
       "\n",
       "                                                                                                                                                                                                                                                                                                                                                                                                                                                                                                               Unique Sample  \n",
       "0   [IRL, FRA, PRT, NLD, ESP, UMI, CN, LUX, BRA, BEL, JPN, DEU, ITA, CHE, GBR, AGO, SRB, COL, CHN, SWE, AUT, CIV, CZE, POL, USA, SGP, RUS, ROU, DNK, IND, MAR, PHL, ARG, ISL, ZAF, LBN, MOZ, TUR, BGD, MEX, CAF, NOR, FIN, UKR, EGY, ISR, nan, KOR, AZE, HUN, AUS, EST, CHL, SVN, PRY, ABW, ALB, LTU, ARE, HRV, SAU, NZL, LVA, ATA, KAZ, DZA, TWN, CRI, BIH, BGR, IRQ, OMN, VEN, IDN, GEO, MLT, IRN, BLR, URY, LBY, TUN, BEN, MYS, MWI, GRC, CYP, CPV, HKG, PRI, MKD, MUS, IMN, PAN, NGA, GLP, KHM, PER, QAT, SEN, MAC, ...]  \n",
       "1   [Offline TA/TO, Online TA, Direct, Groups, Corporate, Complementary, Aviation, Undefined]                                                                                                                                                                                                                                                                                                                                                                                                                                 \n",
       "2   [0, 1, 25, 2, 3, 11, 24, 13, 6, 26, 14, 4, 19, 5, 21]                                                                                                                                                                                                                                                                                                                                                                                                                                                                     \n",
       "3   [0, 1, 2, 5, 3, 4, 6, 7, 9, 8, 17, 10, 13, 12, 14, 21, 16, 20, 15]                                                                                                                                                                                                                                                                                                                                                                                                                                                        \n",
       "4   [No Deposit, Non Refund, Refundable]                                                                                                                                                                                                                                                                                                                                                                                                                                                                                      \n",
       "5   [0, 3, 39, 87, 77, 215, 97, 162, 46, 79, 4, 31, 122, 34, 57, 259, 50, 17, 32, 43, 75, 69, 44, 22, 113, 58, 38, 65, 48, 236, 176, 25, 108, 91, 19, 160, 68, 28, 63, 35, 42, 59, 24, 8, 183, 187, 21, 111, 56, 98, 101, 15, 16, 47, 93, 45, 14, 70, 10, 49, 178, 99, 60, 40, 85, 223, 6, 33, 391, 20, 1, 41, 147, 55, 80, 379, 150, 61, 330, 174, 107, 96, 18, 62, 13, 30, 120, 27, 207, 71, 2, 76, 125, 5, 9, 224, 53, 83, 84, 12, ...]                                                                                    \n",
       "6   [Transient-Party, Transient, Contract, Group]                                                                                                                                                                                                                                                                                                                                                                                                                                                                             \n",
       "7   [A, E, D, F, B, G, C, H, L, P]                                                                                                                                                                                                                                                                                                                                                                                                                                                                                            \n",
       "8   [0, 1, 2, 8, 3]                                                                                                                                                                                                                                                                                                                                                                                                                                                                                                           \n",
       "9   [0, 2, 1, 3, 4, 5]                                                                                                                                                                                                                                                                                                                                                                                                                                                                                                        \n",
       "10  [0, 1]                                                                                                                                                                                                                                                                                                                                                                                                                                                                                                                    "
      ]
     },
     "execution_count": 111,
     "metadata": {},
     "output_type": "execute_result"
    }
   ],
   "source": [
    "list_item = []\n",
    "for col in df.columns:\n",
    "    list_item.append([col,df[col].nunique(),df[col].unique()])\n",
    "\n",
    "tabel_desc = pd.DataFrame(columns=['Column Name', 'Number of Unique', 'Unique Sample'],\n",
    "                     data=list_item)\n",
    "pd.set_option('display.max_colwidth', 0)\n",
    "tabel_desc"
   ]
  },
  {
   "cell_type": "code",
   "execution_count": 112,
   "metadata": {},
   "outputs": [],
   "source": [
    "df_prep = df.copy()"
   ]
  },
  {
   "cell_type": "markdown",
   "metadata": {},
   "source": [
    "Missing Values"
   ]
  },
  {
   "cell_type": "code",
   "execution_count": 113,
   "metadata": {},
   "outputs": [
    {
     "data": {
      "text/plain": [
       "country                        351\n",
       "market_segment                 0  \n",
       "previous_cancellations         0  \n",
       "booking_changes                0  \n",
       "deposit_type                   0  \n",
       "days_in_waiting_list           0  \n",
       "customer_type                  0  \n",
       "reserved_room_type             0  \n",
       "required_car_parking_spaces    0  \n",
       "total_of_special_requests      0  \n",
       "is_canceled                    0  \n",
       "dtype: int64"
      ]
     },
     "execution_count": 113,
     "metadata": {},
     "output_type": "execute_result"
    }
   ],
   "source": [
    "df_prep.isna().sum().sort_values(ascending = False)"
   ]
  },
  {
   "cell_type": "markdown",
   "metadata": {},
   "source": [
    "Percentage of Missing Values"
   ]
  },
  {
   "cell_type": "code",
   "execution_count": 114,
   "metadata": {},
   "outputs": [
    {
     "data": {
      "text/plain": [
       "country                        0.419992\n",
       "market_segment                 0.000000\n",
       "previous_cancellations         0.000000\n",
       "booking_changes                0.000000\n",
       "deposit_type                   0.000000\n",
       "days_in_waiting_list           0.000000\n",
       "customer_type                  0.000000\n",
       "reserved_room_type             0.000000\n",
       "required_car_parking_spaces    0.000000\n",
       "total_of_special_requests      0.000000\n",
       "is_canceled                    0.000000\n",
       "dtype: float64"
      ]
     },
     "execution_count": 114,
     "metadata": {},
     "output_type": "execute_result"
    }
   ],
   "source": [
    "# Percentage of Missing Values\n",
    "(df_prep.isna().sum()/df_prep.shape[0]*100).sort_values(ascending = False)"
   ]
  },
  {
   "cell_type": "markdown",
   "metadata": {},
   "source": [
    "Missing Values of market_segment columns in percentage"
   ]
  },
  {
   "cell_type": "code",
   "execution_count": 115,
   "metadata": {},
   "outputs": [
    {
     "data": {
      "text/plain": [
       "0.0011965586971868904"
      ]
     },
     "execution_count": 115,
     "metadata": {},
     "output_type": "execute_result"
    }
   ],
   "source": [
    "(df_prep['market_segment'].value_counts()['Undefined']/df_prep['market_segment'].shape[0]*100)"
   ]
  },
  {
   "cell_type": "markdown",
   "metadata": {},
   "source": [
    "Because the missing values on both market_segment and country columns are low (under 1%), it could be dropped from further analysis."
   ]
  },
  {
   "cell_type": "code",
   "execution_count": 116,
   "metadata": {},
   "outputs": [],
   "source": [
    "df_prep = df_prep.dropna()"
   ]
  },
  {
   "cell_type": "code",
   "execution_count": 117,
   "metadata": {},
   "outputs": [],
   "source": [
    "df_prep = df_prep.drop(df_prep[df_prep['market_segment'] == 'Undefined'].index)"
   ]
  },
  {
   "cell_type": "code",
   "execution_count": 118,
   "metadata": {},
   "outputs": [
    {
     "data": {
      "text/html": [
       "<div>\n",
       "<style scoped>\n",
       "    .dataframe tbody tr th:only-of-type {\n",
       "        vertical-align: middle;\n",
       "    }\n",
       "\n",
       "    .dataframe tbody tr th {\n",
       "        vertical-align: top;\n",
       "    }\n",
       "\n",
       "    .dataframe thead th {\n",
       "        text-align: right;\n",
       "    }\n",
       "</style>\n",
       "<table border=\"1\" class=\"dataframe\">\n",
       "  <thead>\n",
       "    <tr style=\"text-align: right;\">\n",
       "      <th></th>\n",
       "      <th>Column Name</th>\n",
       "      <th>Number of Unique</th>\n",
       "      <th>Unique Sample</th>\n",
       "    </tr>\n",
       "  </thead>\n",
       "  <tbody>\n",
       "    <tr>\n",
       "      <th>0</th>\n",
       "      <td>country</td>\n",
       "      <td>162</td>\n",
       "      <td>[IRL, FRA, PRT, NLD, ESP, UMI, CN, LUX, BRA, BEL, JPN, DEU, ITA, CHE, GBR, AGO, SRB, COL, CHN, SWE, AUT, CIV, CZE, POL, USA, SGP, RUS, ROU, DNK, IND, MAR, PHL, ARG, ISL, ZAF, LBN, MOZ, TUR, BGD, MEX, CAF, NOR, FIN, UKR, EGY, ISR, KOR, AZE, HUN, AUS, EST, CHL, SVN, PRY, ABW, ALB, LTU, ARE, HRV, SAU, NZL, LVA, ATA, KAZ, DZA, TWN, CRI, BIH, BGR, IRQ, OMN, VEN, IDN, GEO, MLT, IRN, BLR, URY, LBY, TUN, BEN, MYS, MWI, GRC, CYP, CPV, HKG, PRI, MKD, MUS, IMN, PAN, NGA, GLP, KHM, PER, QAT, SEN, MAC, SVK, ...]</td>\n",
       "    </tr>\n",
       "    <tr>\n",
       "      <th>1</th>\n",
       "      <td>market_segment</td>\n",
       "      <td>7</td>\n",
       "      <td>[Offline TA/TO, Online TA, Direct, Groups, Corporate, Complementary, Aviation]</td>\n",
       "    </tr>\n",
       "    <tr>\n",
       "      <th>2</th>\n",
       "      <td>previous_cancellations</td>\n",
       "      <td>15</td>\n",
       "      <td>[0, 1, 25, 2, 3, 11, 24, 13, 6, 26, 14, 4, 19, 5, 21]</td>\n",
       "    </tr>\n",
       "    <tr>\n",
       "      <th>3</th>\n",
       "      <td>booking_changes</td>\n",
       "      <td>19</td>\n",
       "      <td>[0, 1, 2, 5, 3, 4, 6, 7, 9, 8, 17, 10, 13, 12, 14, 21, 16, 20, 15]</td>\n",
       "    </tr>\n",
       "    <tr>\n",
       "      <th>4</th>\n",
       "      <td>deposit_type</td>\n",
       "      <td>3</td>\n",
       "      <td>[No Deposit, Non Refund, Refundable]</td>\n",
       "    </tr>\n",
       "    <tr>\n",
       "      <th>5</th>\n",
       "      <td>days_in_waiting_list</td>\n",
       "      <td>115</td>\n",
       "      <td>[0, 3, 39, 87, 77, 215, 97, 162, 46, 79, 4, 31, 122, 34, 57, 259, 50, 17, 32, 43, 75, 69, 44, 22, 113, 58, 38, 65, 48, 236, 176, 25, 108, 91, 19, 160, 68, 28, 63, 35, 42, 59, 24, 8, 183, 187, 21, 111, 56, 98, 101, 15, 16, 47, 93, 45, 14, 70, 10, 49, 178, 99, 60, 40, 85, 223, 6, 33, 391, 20, 1, 41, 147, 55, 80, 379, 150, 61, 330, 174, 107, 96, 18, 62, 13, 30, 120, 27, 207, 71, 2, 76, 125, 5, 9, 224, 53, 83, 84, 12, ...]</td>\n",
       "    </tr>\n",
       "    <tr>\n",
       "      <th>6</th>\n",
       "      <td>customer_type</td>\n",
       "      <td>4</td>\n",
       "      <td>[Transient-Party, Transient, Contract, Group]</td>\n",
       "    </tr>\n",
       "    <tr>\n",
       "      <th>7</th>\n",
       "      <td>reserved_room_type</td>\n",
       "      <td>10</td>\n",
       "      <td>[A, E, D, F, B, G, C, H, L, P]</td>\n",
       "    </tr>\n",
       "    <tr>\n",
       "      <th>8</th>\n",
       "      <td>required_car_parking_spaces</td>\n",
       "      <td>5</td>\n",
       "      <td>[0, 1, 2, 8, 3]</td>\n",
       "    </tr>\n",
       "    <tr>\n",
       "      <th>9</th>\n",
       "      <td>total_of_special_requests</td>\n",
       "      <td>6</td>\n",
       "      <td>[0, 2, 1, 3, 4, 5]</td>\n",
       "    </tr>\n",
       "    <tr>\n",
       "      <th>10</th>\n",
       "      <td>is_canceled</td>\n",
       "      <td>2</td>\n",
       "      <td>[0, 1]</td>\n",
       "    </tr>\n",
       "  </tbody>\n",
       "</table>\n",
       "</div>"
      ],
      "text/plain": [
       "                    Column Name  Number of Unique  \\\n",
       "0   country                      162                \n",
       "1   market_segment               7                  \n",
       "2   previous_cancellations       15                 \n",
       "3   booking_changes              19                 \n",
       "4   deposit_type                 3                  \n",
       "5   days_in_waiting_list         115                \n",
       "6   customer_type                4                  \n",
       "7   reserved_room_type           10                 \n",
       "8   required_car_parking_spaces  5                  \n",
       "9   total_of_special_requests    6                  \n",
       "10  is_canceled                  2                  \n",
       "\n",
       "                                                                                                                                                                                                                                                                                                                                                                                                                                                                                                               Unique Sample  \n",
       "0   [IRL, FRA, PRT, NLD, ESP, UMI, CN, LUX, BRA, BEL, JPN, DEU, ITA, CHE, GBR, AGO, SRB, COL, CHN, SWE, AUT, CIV, CZE, POL, USA, SGP, RUS, ROU, DNK, IND, MAR, PHL, ARG, ISL, ZAF, LBN, MOZ, TUR, BGD, MEX, CAF, NOR, FIN, UKR, EGY, ISR, KOR, AZE, HUN, AUS, EST, CHL, SVN, PRY, ABW, ALB, LTU, ARE, HRV, SAU, NZL, LVA, ATA, KAZ, DZA, TWN, CRI, BIH, BGR, IRQ, OMN, VEN, IDN, GEO, MLT, IRN, BLR, URY, LBY, TUN, BEN, MYS, MWI, GRC, CYP, CPV, HKG, PRI, MKD, MUS, IMN, PAN, NGA, GLP, KHM, PER, QAT, SEN, MAC, SVK, ...]  \n",
       "1   [Offline TA/TO, Online TA, Direct, Groups, Corporate, Complementary, Aviation]                                                                                                                                                                                                                                                                                                                                                                                                                                            \n",
       "2   [0, 1, 25, 2, 3, 11, 24, 13, 6, 26, 14, 4, 19, 5, 21]                                                                                                                                                                                                                                                                                                                                                                                                                                                                     \n",
       "3   [0, 1, 2, 5, 3, 4, 6, 7, 9, 8, 17, 10, 13, 12, 14, 21, 16, 20, 15]                                                                                                                                                                                                                                                                                                                                                                                                                                                        \n",
       "4   [No Deposit, Non Refund, Refundable]                                                                                                                                                                                                                                                                                                                                                                                                                                                                                      \n",
       "5   [0, 3, 39, 87, 77, 215, 97, 162, 46, 79, 4, 31, 122, 34, 57, 259, 50, 17, 32, 43, 75, 69, 44, 22, 113, 58, 38, 65, 48, 236, 176, 25, 108, 91, 19, 160, 68, 28, 63, 35, 42, 59, 24, 8, 183, 187, 21, 111, 56, 98, 101, 15, 16, 47, 93, 45, 14, 70, 10, 49, 178, 99, 60, 40, 85, 223, 6, 33, 391, 20, 1, 41, 147, 55, 80, 379, 150, 61, 330, 174, 107, 96, 18, 62, 13, 30, 120, 27, 207, 71, 2, 76, 125, 5, 9, 224, 53, 83, 84, 12, ...]                                                                                    \n",
       "6   [Transient-Party, Transient, Contract, Group]                                                                                                                                                                                                                                                                                                                                                                                                                                                                             \n",
       "7   [A, E, D, F, B, G, C, H, L, P]                                                                                                                                                                                                                                                                                                                                                                                                                                                                                            \n",
       "8   [0, 1, 2, 8, 3]                                                                                                                                                                                                                                                                                                                                                                                                                                                                                                           \n",
       "9   [0, 2, 1, 3, 4, 5]                                                                                                                                                                                                                                                                                                                                                                                                                                                                                                        \n",
       "10  [0, 1]                                                                                                                                                                                                                                                                                                                                                                                                                                                                                                                    "
      ]
     },
     "execution_count": 118,
     "metadata": {},
     "output_type": "execute_result"
    }
   ],
   "source": [
    "list_item = []\n",
    "for col in df_prep.columns:\n",
    "    list_item.append([col,df_prep[col].nunique(),df_prep[col].unique()])\n",
    "\n",
    "tabel_desc = pd.DataFrame(columns=['Column Name', 'Number of Unique', 'Unique Sample'],\n",
    "                     data=list_item)\n",
    "pd.set_option('display.max_colwidth', 0)\n",
    "tabel_desc"
   ]
  },
  {
   "cell_type": "code",
   "execution_count": 119,
   "metadata": {},
   "outputs": [
    {
     "data": {
      "text/plain": [
       "country                        0\n",
       "market_segment                 0\n",
       "previous_cancellations         0\n",
       "booking_changes                0\n",
       "deposit_type                   0\n",
       "days_in_waiting_list           0\n",
       "customer_type                  0\n",
       "reserved_room_type             0\n",
       "required_car_parking_spaces    0\n",
       "total_of_special_requests      0\n",
       "is_canceled                    0\n",
       "dtype: int64"
      ]
     },
     "execution_count": 119,
     "metadata": {},
     "output_type": "execute_result"
    }
   ],
   "source": [
    "df_prep.isna().sum().sort_values(ascending = False)"
   ]
  },
  {
   "cell_type": "markdown",
   "metadata": {},
   "source": [
    "Remove Duplicates"
   ]
  },
  {
   "cell_type": "code",
   "execution_count": 120,
   "metadata": {},
   "outputs": [
    {
     "data": {
      "text/plain": [
       "73138"
      ]
     },
     "execution_count": 120,
     "metadata": {},
     "output_type": "execute_result"
    }
   ],
   "source": [
    "df_prep.duplicated().sum()"
   ]
  },
  {
   "cell_type": "code",
   "execution_count": 121,
   "metadata": {},
   "outputs": [],
   "source": [
    "df_prep.drop_duplicates(inplace=True)"
   ]
  },
  {
   "cell_type": "code",
   "execution_count": 122,
   "metadata": {},
   "outputs": [
    {
     "data": {
      "text/plain": [
       "0"
      ]
     },
     "execution_count": 122,
     "metadata": {},
     "output_type": "execute_result"
    }
   ],
   "source": [
    "df_prep.duplicated().sum()"
   ]
  },
  {
   "cell_type": "code",
   "execution_count": 123,
   "metadata": {},
   "outputs": [
    {
     "data": {
      "text/html": [
       "<div>\n",
       "<style scoped>\n",
       "    .dataframe tbody tr th:only-of-type {\n",
       "        vertical-align: middle;\n",
       "    }\n",
       "\n",
       "    .dataframe tbody tr th {\n",
       "        vertical-align: top;\n",
       "    }\n",
       "\n",
       "    .dataframe thead th {\n",
       "        text-align: right;\n",
       "    }\n",
       "</style>\n",
       "<table border=\"1\" class=\"dataframe\">\n",
       "  <thead>\n",
       "    <tr style=\"text-align: right;\">\n",
       "      <th></th>\n",
       "      <th>country</th>\n",
       "      <th>market_segment</th>\n",
       "      <th>previous_cancellations</th>\n",
       "      <th>booking_changes</th>\n",
       "      <th>deposit_type</th>\n",
       "      <th>days_in_waiting_list</th>\n",
       "      <th>customer_type</th>\n",
       "      <th>reserved_room_type</th>\n",
       "      <th>required_car_parking_spaces</th>\n",
       "      <th>total_of_special_requests</th>\n",
       "      <th>is_canceled</th>\n",
       "    </tr>\n",
       "  </thead>\n",
       "  <tbody>\n",
       "    <tr>\n",
       "      <th>0</th>\n",
       "      <td>IRL</td>\n",
       "      <td>Offline TA/TO</td>\n",
       "      <td>0</td>\n",
       "      <td>0</td>\n",
       "      <td>No Deposit</td>\n",
       "      <td>0</td>\n",
       "      <td>Transient-Party</td>\n",
       "      <td>A</td>\n",
       "      <td>0</td>\n",
       "      <td>0</td>\n",
       "      <td>0</td>\n",
       "    </tr>\n",
       "    <tr>\n",
       "      <th>1</th>\n",
       "      <td>FRA</td>\n",
       "      <td>Online TA</td>\n",
       "      <td>0</td>\n",
       "      <td>0</td>\n",
       "      <td>No Deposit</td>\n",
       "      <td>0</td>\n",
       "      <td>Transient</td>\n",
       "      <td>A</td>\n",
       "      <td>0</td>\n",
       "      <td>2</td>\n",
       "      <td>0</td>\n",
       "    </tr>\n",
       "    <tr>\n",
       "      <th>2</th>\n",
       "      <td>PRT</td>\n",
       "      <td>Online TA</td>\n",
       "      <td>0</td>\n",
       "      <td>1</td>\n",
       "      <td>No Deposit</td>\n",
       "      <td>0</td>\n",
       "      <td>Transient</td>\n",
       "      <td>A</td>\n",
       "      <td>0</td>\n",
       "      <td>2</td>\n",
       "      <td>0</td>\n",
       "    </tr>\n",
       "    <tr>\n",
       "      <th>3</th>\n",
       "      <td>NLD</td>\n",
       "      <td>Online TA</td>\n",
       "      <td>0</td>\n",
       "      <td>0</td>\n",
       "      <td>No Deposit</td>\n",
       "      <td>0</td>\n",
       "      <td>Transient</td>\n",
       "      <td>A</td>\n",
       "      <td>0</td>\n",
       "      <td>1</td>\n",
       "      <td>1</td>\n",
       "    </tr>\n",
       "    <tr>\n",
       "      <th>4</th>\n",
       "      <td>PRT</td>\n",
       "      <td>Online TA</td>\n",
       "      <td>0</td>\n",
       "      <td>2</td>\n",
       "      <td>No Deposit</td>\n",
       "      <td>0</td>\n",
       "      <td>Transient</td>\n",
       "      <td>A</td>\n",
       "      <td>0</td>\n",
       "      <td>2</td>\n",
       "      <td>0</td>\n",
       "    </tr>\n",
       "    <tr>\n",
       "      <th>...</th>\n",
       "      <td>...</td>\n",
       "      <td>...</td>\n",
       "      <td>...</td>\n",
       "      <td>...</td>\n",
       "      <td>...</td>\n",
       "      <td>...</td>\n",
       "      <td>...</td>\n",
       "      <td>...</td>\n",
       "      <td>...</td>\n",
       "      <td>...</td>\n",
       "      <td>...</td>\n",
       "    </tr>\n",
       "    <tr>\n",
       "      <th>83515</th>\n",
       "      <td>GBR</td>\n",
       "      <td>Direct</td>\n",
       "      <td>0</td>\n",
       "      <td>2</td>\n",
       "      <td>No Deposit</td>\n",
       "      <td>0</td>\n",
       "      <td>Transient-Party</td>\n",
       "      <td>A</td>\n",
       "      <td>1</td>\n",
       "      <td>1</td>\n",
       "      <td>0</td>\n",
       "    </tr>\n",
       "    <tr>\n",
       "      <th>83543</th>\n",
       "      <td>CHN</td>\n",
       "      <td>Online TA</td>\n",
       "      <td>0</td>\n",
       "      <td>0</td>\n",
       "      <td>No Deposit</td>\n",
       "      <td>0</td>\n",
       "      <td>Transient-Party</td>\n",
       "      <td>C</td>\n",
       "      <td>0</td>\n",
       "      <td>2</td>\n",
       "      <td>0</td>\n",
       "    </tr>\n",
       "    <tr>\n",
       "      <th>83554</th>\n",
       "      <td>BEL</td>\n",
       "      <td>Groups</td>\n",
       "      <td>0</td>\n",
       "      <td>0</td>\n",
       "      <td>No Deposit</td>\n",
       "      <td>0</td>\n",
       "      <td>Transient-Party</td>\n",
       "      <td>A</td>\n",
       "      <td>0</td>\n",
       "      <td>1</td>\n",
       "      <td>0</td>\n",
       "    </tr>\n",
       "    <tr>\n",
       "      <th>83562</th>\n",
       "      <td>NLD</td>\n",
       "      <td>Online TA</td>\n",
       "      <td>0</td>\n",
       "      <td>0</td>\n",
       "      <td>No Deposit</td>\n",
       "      <td>0</td>\n",
       "      <td>Transient</td>\n",
       "      <td>B</td>\n",
       "      <td>0</td>\n",
       "      <td>0</td>\n",
       "      <td>0</td>\n",
       "    </tr>\n",
       "    <tr>\n",
       "      <th>83565</th>\n",
       "      <td>ITA</td>\n",
       "      <td>Offline TA/TO</td>\n",
       "      <td>0</td>\n",
       "      <td>0</td>\n",
       "      <td>No Deposit</td>\n",
       "      <td>0</td>\n",
       "      <td>Transient</td>\n",
       "      <td>A</td>\n",
       "      <td>0</td>\n",
       "      <td>2</td>\n",
       "      <td>0</td>\n",
       "    </tr>\n",
       "  </tbody>\n",
       "</table>\n",
       "<p>10083 rows × 11 columns</p>\n",
       "</div>"
      ],
      "text/plain": [
       "      country market_segment  previous_cancellations  booking_changes  \\\n",
       "0      IRL     Offline TA/TO  0                       0                 \n",
       "1      FRA     Online TA      0                       0                 \n",
       "2      PRT     Online TA      0                       1                 \n",
       "3      NLD     Online TA      0                       0                 \n",
       "4      PRT     Online TA      0                       2                 \n",
       "...    ...           ...     ..                      ..                 \n",
       "83515  GBR     Direct         0                       2                 \n",
       "83543  CHN     Online TA      0                       0                 \n",
       "83554  BEL     Groups         0                       0                 \n",
       "83562  NLD     Online TA      0                       0                 \n",
       "83565  ITA     Offline TA/TO  0                       0                 \n",
       "\n",
       "      deposit_type  days_in_waiting_list    customer_type reserved_room_type  \\\n",
       "0      No Deposit   0                     Transient-Party  A                   \n",
       "1      No Deposit   0                     Transient        A                   \n",
       "2      No Deposit   0                     Transient        A                   \n",
       "3      No Deposit   0                     Transient        A                   \n",
       "4      No Deposit   0                     Transient        A                   \n",
       "...           ...  ..                           ...       ..                   \n",
       "83515  No Deposit   0                     Transient-Party  A                   \n",
       "83543  No Deposit   0                     Transient-Party  C                   \n",
       "83554  No Deposit   0                     Transient-Party  A                   \n",
       "83562  No Deposit   0                     Transient        B                   \n",
       "83565  No Deposit   0                     Transient        A                   \n",
       "\n",
       "       required_car_parking_spaces  total_of_special_requests  is_canceled  \n",
       "0      0                            0                          0            \n",
       "1      0                            2                          0            \n",
       "2      0                            2                          0            \n",
       "3      0                            1                          1            \n",
       "4      0                            2                          0            \n",
       "...   ..                           ..                         ..            \n",
       "83515  1                            1                          0            \n",
       "83543  0                            2                          0            \n",
       "83554  0                            1                          0            \n",
       "83562  0                            0                          0            \n",
       "83565  0                            2                          0            \n",
       "\n",
       "[10083 rows x 11 columns]"
      ]
     },
     "execution_count": 123,
     "metadata": {},
     "output_type": "execute_result"
    }
   ],
   "source": [
    "df_prep"
   ]
  },
  {
   "cell_type": "markdown",
   "metadata": {},
   "source": [
    "Check for Imbalance datasets"
   ]
  },
  {
   "cell_type": "code",
   "execution_count": 124,
   "metadata": {},
   "outputs": [
    {
     "data": {
      "text/plain": [
       "is_canceled\n",
       "0    0.762471\n",
       "1    0.237529\n",
       "Name: proportion, dtype: float64"
      ]
     },
     "execution_count": 124,
     "metadata": {},
     "output_type": "execute_result"
    }
   ],
   "source": [
    "df_prep['is_canceled'].value_counts(normalize=True)"
   ]
  },
  {
   "cell_type": "markdown",
   "metadata": {},
   "source": [
    "### Using Chi-Squared method to remove irrelevant categorical features (independent variables with p-values more than 0.05)"
   ]
  },
  {
   "cell_type": "code",
   "execution_count": 125,
   "metadata": {},
   "outputs": [
    {
     "data": {
      "text/plain": [
       "['country',\n",
       " 'market_segment',\n",
       " 'deposit_type',\n",
       " 'customer_type',\n",
       " 'reserved_room_type']"
      ]
     },
     "execution_count": 125,
     "metadata": {},
     "output_type": "execute_result"
    }
   ],
   "source": [
    "categorical_features = df_prep.select_dtypes(include=['object']).columns.tolist()\n",
    "categorical_features"
   ]
  },
  {
   "cell_type": "code",
   "execution_count": 126,
   "metadata": {},
   "outputs": [
    {
     "data": {
      "text/html": [
       "<div>\n",
       "<style scoped>\n",
       "    .dataframe tbody tr th:only-of-type {\n",
       "        vertical-align: middle;\n",
       "    }\n",
       "\n",
       "    .dataframe tbody tr th {\n",
       "        vertical-align: top;\n",
       "    }\n",
       "\n",
       "    .dataframe thead th {\n",
       "        text-align: right;\n",
       "    }\n",
       "</style>\n",
       "<table border=\"1\" class=\"dataframe\">\n",
       "  <thead>\n",
       "    <tr style=\"text-align: right;\">\n",
       "      <th></th>\n",
       "      <th>country</th>\n",
       "      <th>market_segment</th>\n",
       "      <th>deposit_type</th>\n",
       "      <th>customer_type</th>\n",
       "      <th>reserved_room_type</th>\n",
       "    </tr>\n",
       "  </thead>\n",
       "  <tbody>\n",
       "    <tr>\n",
       "      <th>0</th>\n",
       "      <td>69</td>\n",
       "      <td>5</td>\n",
       "      <td>0</td>\n",
       "      <td>3</td>\n",
       "      <td>0</td>\n",
       "    </tr>\n",
       "    <tr>\n",
       "      <th>1</th>\n",
       "      <td>51</td>\n",
       "      <td>6</td>\n",
       "      <td>0</td>\n",
       "      <td>2</td>\n",
       "      <td>0</td>\n",
       "    </tr>\n",
       "    <tr>\n",
       "      <th>2</th>\n",
       "      <td>123</td>\n",
       "      <td>6</td>\n",
       "      <td>0</td>\n",
       "      <td>2</td>\n",
       "      <td>0</td>\n",
       "    </tr>\n",
       "    <tr>\n",
       "      <th>3</th>\n",
       "      <td>112</td>\n",
       "      <td>6</td>\n",
       "      <td>0</td>\n",
       "      <td>2</td>\n",
       "      <td>0</td>\n",
       "    </tr>\n",
       "    <tr>\n",
       "      <th>4</th>\n",
       "      <td>123</td>\n",
       "      <td>6</td>\n",
       "      <td>0</td>\n",
       "      <td>2</td>\n",
       "      <td>0</td>\n",
       "    </tr>\n",
       "    <tr>\n",
       "      <th>...</th>\n",
       "      <td>...</td>\n",
       "      <td>...</td>\n",
       "      <td>...</td>\n",
       "      <td>...</td>\n",
       "      <td>...</td>\n",
       "    </tr>\n",
       "    <tr>\n",
       "      <th>83515</th>\n",
       "      <td>54</td>\n",
       "      <td>3</td>\n",
       "      <td>0</td>\n",
       "      <td>3</td>\n",
       "      <td>0</td>\n",
       "    </tr>\n",
       "    <tr>\n",
       "      <th>83543</th>\n",
       "      <td>28</td>\n",
       "      <td>6</td>\n",
       "      <td>0</td>\n",
       "      <td>3</td>\n",
       "      <td>2</td>\n",
       "    </tr>\n",
       "    <tr>\n",
       "      <th>83554</th>\n",
       "      <td>13</td>\n",
       "      <td>4</td>\n",
       "      <td>0</td>\n",
       "      <td>3</td>\n",
       "      <td>0</td>\n",
       "    </tr>\n",
       "    <tr>\n",
       "      <th>83562</th>\n",
       "      <td>112</td>\n",
       "      <td>6</td>\n",
       "      <td>0</td>\n",
       "      <td>2</td>\n",
       "      <td>1</td>\n",
       "    </tr>\n",
       "    <tr>\n",
       "      <th>83565</th>\n",
       "      <td>74</td>\n",
       "      <td>5</td>\n",
       "      <td>0</td>\n",
       "      <td>2</td>\n",
       "      <td>0</td>\n",
       "    </tr>\n",
       "  </tbody>\n",
       "</table>\n",
       "<p>10083 rows × 5 columns</p>\n",
       "</div>"
      ],
      "text/plain": [
       "       country  market_segment  deposit_type  customer_type  \\\n",
       "0      69       5               0             3               \n",
       "1      51       6               0             2               \n",
       "2      123      6               0             2               \n",
       "3      112      6               0             2               \n",
       "4      123      6               0             2               \n",
       "...    ...     ..              ..            ..               \n",
       "83515  54       3               0             3               \n",
       "83543  28       6               0             3               \n",
       "83554  13       4               0             3               \n",
       "83562  112      6               0             2               \n",
       "83565  74       5               0             2               \n",
       "\n",
       "       reserved_room_type  \n",
       "0      0                   \n",
       "1      0                   \n",
       "2      0                   \n",
       "3      0                   \n",
       "4      0                   \n",
       "...   ..                   \n",
       "83515  0                   \n",
       "83543  2                   \n",
       "83554  0                   \n",
       "83562  1                   \n",
       "83565  0                   \n",
       "\n",
       "[10083 rows x 5 columns]"
      ]
     },
     "execution_count": 126,
     "metadata": {},
     "output_type": "execute_result"
    }
   ],
   "source": [
    "df_check = df_prep.select_dtypes(include=['object']).copy()\n",
    "\n",
    "for col in categorical_features:\n",
    "    le = LabelEncoder()\n",
    "    df_check[col] = le.fit_transform(df_check[col])\n",
    "df_check"
   ]
  },
  {
   "cell_type": "code",
   "execution_count": 127,
   "metadata": {},
   "outputs": [],
   "source": [
    "features = df_check\n",
    "target = df_prep['is_canceled']\n"
   ]
  },
  {
   "cell_type": "code",
   "execution_count": 128,
   "metadata": {},
   "outputs": [
    {
     "data": {
      "text/plain": [
       "(array([2353.40407654,   85.98684316,  337.05549318,    3.9771342 ,\n",
       "           4.58023576]),\n",
       " array([0.00000000e+00, 1.81136785e-20, 2.79344349e-75, 4.61219707e-02,\n",
       "        3.23427647e-02]))"
      ]
     },
     "execution_count": 128,
     "metadata": {},
     "output_type": "execute_result"
    }
   ],
   "source": [
    "chi_scores = chi2(features, target)\n",
    "chi_scores"
   ]
  },
  {
   "cell_type": "markdown",
   "metadata": {},
   "source": [
    "The p-values of all the columns tested above are lower than 0.05, which means the null hypothesis of independent variables is rejected. Therefore, all features above will be included in the modelling process."
   ]
  },
  {
   "cell_type": "markdown",
   "metadata": {},
   "source": [
    "### Using Point-biserial correlation coefficient to remove irrelevant continuous features"
   ]
  },
  {
   "cell_type": "code",
   "execution_count": null,
   "metadata": {},
   "outputs": [],
   "source": [
    "features = df_prep.select_dtypes(exclude=['object']).drop('is_canceled', axis=1).copy()\n",
    "target = df_prep['is_canceled']"
   ]
  },
  {
   "cell_type": "code",
   "execution_count": null,
   "metadata": {},
   "outputs": [
    {
     "data": {
      "text/plain": [
       "['previous_cancellations',\n",
       " 'booking_changes',\n",
       " 'days_in_waiting_list',\n",
       " 'required_car_parking_spaces',\n",
       " 'total_of_special_requests']"
      ]
     },
     "execution_count": 107,
     "metadata": {},
     "output_type": "execute_result"
    }
   ],
   "source": [
    "features.columns.tolist()"
   ]
  },
  {
   "cell_type": "code",
   "execution_count": null,
   "metadata": {},
   "outputs": [
    {
     "name": "stdout",
     "output_type": "stream",
     "text": [
      "Point-Biserial Correlation: 0.07670020847910905, p-value: 1.2367393004097703e-14\n",
      "Point-Biserial Correlation: -0.07272954441731139, p-value: 2.634820561903737e-13\n",
      "Point-Biserial Correlation: 0.03222238110295828, p-value: 0.001212081009330368\n",
      "Point-Biserial Correlation: -0.2351864236431272, p-value: 9.283062651065228e-127\n",
      "Point-Biserial Correlation: -0.07322334791724212, p-value: 1.816761745926394e-13\n"
     ]
    }
   ],
   "source": [
    "for i in features:\n",
    "    correlation, p_value = pointbiserialr(features[i], target)\n",
    "    print(f'Point-Biserial Correlation: {correlation}, p-value: {p_value}')\n"
   ]
  },
  {
   "cell_type": "markdown",
   "metadata": {},
   "source": [
    "The p-values of all the columns tested above are lower than 0.05, which means the null hypothesis of independent variables is rejected. Therefore, all features above will be included in the modelling process."
   ]
  },
  {
   "cell_type": "code",
   "execution_count": null,
   "metadata": {},
   "outputs": [],
   "source": [
    "\n",
    "categorical_features = df_prep.select_dtypes(include=['object']).copy().columns.tolist()\n",
    "numerical_features = df_prep.select_dtypes(exclude=['object']).drop('is_canceled', axis=1).copy().columns.tolist()\n"
   ]
  },
  {
   "cell_type": "code",
   "execution_count": null,
   "metadata": {},
   "outputs": [],
   "source": [
    "preprocessor = ColumnTransformer(\n",
    "    transformers=[\n",
    "        ('num', StandardScaler(), numerical_features),\n",
    "        ('cat', OneHotEncoder(handle_unknown='ignore'), categorical_features)\n",
    "    ])\n"
   ]
  },
  {
   "cell_type": "markdown",
   "metadata": {},
   "source": [
    "For the categorical features, OneHotEncoder is used to convert categorical variables into a binary format, where each category becomes a separate binary feature. By encoding categorical variables as binary features, the model's predictions remain interpretable, as each feature represents the presence or absence of a specific category.  This ensures that all categories are adequately represented without introducing bias or assuming an ordinal relationship.\n",
    "\n",
    "For the numerical features, StandardScaler standardizes numerical features by removing the mean and scaling them to unit variance. This transformation ensures that numerical features have a similar scale, preventing features with larger values from dominating those with smaller values during model training. Compared to other method, for example MinMaxScaler that maps the data to a fixed range, which may not be suitable for features with small variance, StandardScaler, which centers the data around zero and scales it to unit variance, may provide better results."
   ]
  },
  {
   "cell_type": "code",
   "execution_count": null,
   "metadata": {},
   "outputs": [],
   "source": [
    "model = Pipeline(steps=[\n",
    "    ('preprocessor', preprocessor),\n",
    "    ('classifier', RandomForestClassifier(n_estimators=100, random_state=42, class_weight={0:1, 1:4}))\n",
    "])\n"
   ]
  },
  {
   "cell_type": "markdown",
   "metadata": {},
   "source": [
    "RandomForestClassifier algorithm works by creating several subsets of the training data with bootstrap sampling. FOr each sample, then a decision tree is trained independently. During training, a random subset of features is selected at each split point. Once all decision trees are trained, the algorithm then makes predictions by aggregating predictions from individual trees.\n",
    "\n",
    "The advantage of RandomForestClassifier is that it can handle both numerical and categorical features without extensive preprocessing which makes it versatile, being able to accommodate various input data types without complex feature engineering. In real-world datasets where features may have different data types, such as booking amounts (numeric) and booking channels (categorical), the algorithm simplifies the modeling process and accelerates deployment which facilitates faster decision-making.\n",
    "\n",
    "RandomForestClassifier also can capture complex non-linear relationships between features and the target variable by constructing multiple decision trees and aggregating their predictions. This makes it suitable for datasets with certain interactions among variables, such as predicting order cancellations influenced by various factors. In such conditions, the algorithm can provide more accurate predictions compared to linear models like Logistic Regression.\n"
   ]
  },
  {
   "cell_type": "markdown",
   "metadata": {},
   "source": [
    "## Modelling"
   ]
  },
  {
   "cell_type": "code",
   "execution_count": null,
   "metadata": {},
   "outputs": [],
   "source": [
    "X = df_prep.drop('is_canceled', axis=1)\n",
    "y = df_prep[['is_canceled']]\n",
    "\n",
    "X_train, X_test, y_train, y_test = train_test_split(X, y, test_size=0.3, random_state=42, stratify=y)"
   ]
  },
  {
   "cell_type": "code",
   "execution_count": null,
   "metadata": {},
   "outputs": [
    {
     "name": "stderr",
     "output_type": "stream",
     "text": [
      "c:\\Users\\gpram\\anaconda3\\Lib\\site-packages\\sklearn\\base.py:1151: DataConversionWarning: A column-vector y was passed when a 1d array was expected. Please change the shape of y to (n_samples,), for example using ravel().\n",
      "  return fit_method(estimator, *args, **kwargs)\n"
     ]
    },
    {
     "data": {
      "text/html": [
       "<style>#sk-container-id-3 {color: black;}#sk-container-id-3 pre{padding: 0;}#sk-container-id-3 div.sk-toggleable {background-color: white;}#sk-container-id-3 label.sk-toggleable__label {cursor: pointer;display: block;width: 100%;margin-bottom: 0;padding: 0.3em;box-sizing: border-box;text-align: center;}#sk-container-id-3 label.sk-toggleable__label-arrow:before {content: \"▸\";float: left;margin-right: 0.25em;color: #696969;}#sk-container-id-3 label.sk-toggleable__label-arrow:hover:before {color: black;}#sk-container-id-3 div.sk-estimator:hover label.sk-toggleable__label-arrow:before {color: black;}#sk-container-id-3 div.sk-toggleable__content {max-height: 0;max-width: 0;overflow: hidden;text-align: left;background-color: #f0f8ff;}#sk-container-id-3 div.sk-toggleable__content pre {margin: 0.2em;color: black;border-radius: 0.25em;background-color: #f0f8ff;}#sk-container-id-3 input.sk-toggleable__control:checked~div.sk-toggleable__content {max-height: 200px;max-width: 100%;overflow: auto;}#sk-container-id-3 input.sk-toggleable__control:checked~label.sk-toggleable__label-arrow:before {content: \"▾\";}#sk-container-id-3 div.sk-estimator input.sk-toggleable__control:checked~label.sk-toggleable__label {background-color: #d4ebff;}#sk-container-id-3 div.sk-label input.sk-toggleable__control:checked~label.sk-toggleable__label {background-color: #d4ebff;}#sk-container-id-3 input.sk-hidden--visually {border: 0;clip: rect(1px 1px 1px 1px);clip: rect(1px, 1px, 1px, 1px);height: 1px;margin: -1px;overflow: hidden;padding: 0;position: absolute;width: 1px;}#sk-container-id-3 div.sk-estimator {font-family: monospace;background-color: #f0f8ff;border: 1px dotted black;border-radius: 0.25em;box-sizing: border-box;margin-bottom: 0.5em;}#sk-container-id-3 div.sk-estimator:hover {background-color: #d4ebff;}#sk-container-id-3 div.sk-parallel-item::after {content: \"\";width: 100%;border-bottom: 1px solid gray;flex-grow: 1;}#sk-container-id-3 div.sk-label:hover label.sk-toggleable__label {background-color: #d4ebff;}#sk-container-id-3 div.sk-serial::before {content: \"\";position: absolute;border-left: 1px solid gray;box-sizing: border-box;top: 0;bottom: 0;left: 50%;z-index: 0;}#sk-container-id-3 div.sk-serial {display: flex;flex-direction: column;align-items: center;background-color: white;padding-right: 0.2em;padding-left: 0.2em;position: relative;}#sk-container-id-3 div.sk-item {position: relative;z-index: 1;}#sk-container-id-3 div.sk-parallel {display: flex;align-items: stretch;justify-content: center;background-color: white;position: relative;}#sk-container-id-3 div.sk-item::before, #sk-container-id-3 div.sk-parallel-item::before {content: \"\";position: absolute;border-left: 1px solid gray;box-sizing: border-box;top: 0;bottom: 0;left: 50%;z-index: -1;}#sk-container-id-3 div.sk-parallel-item {display: flex;flex-direction: column;z-index: 1;position: relative;background-color: white;}#sk-container-id-3 div.sk-parallel-item:first-child::after {align-self: flex-end;width: 50%;}#sk-container-id-3 div.sk-parallel-item:last-child::after {align-self: flex-start;width: 50%;}#sk-container-id-3 div.sk-parallel-item:only-child::after {width: 0;}#sk-container-id-3 div.sk-dashed-wrapped {border: 1px dashed gray;margin: 0 0.4em 0.5em 0.4em;box-sizing: border-box;padding-bottom: 0.4em;background-color: white;}#sk-container-id-3 div.sk-label label {font-family: monospace;font-weight: bold;display: inline-block;line-height: 1.2em;}#sk-container-id-3 div.sk-label-container {text-align: center;}#sk-container-id-3 div.sk-container {/* jupyter's `normalize.less` sets `[hidden] { display: none; }` but bootstrap.min.css set `[hidden] { display: none !important; }` so we also need the `!important` here to be able to override the default hidden behavior on the sphinx rendered scikit-learn.org. See: https://github.com/scikit-learn/scikit-learn/issues/21755 */display: inline-block !important;position: relative;}#sk-container-id-3 div.sk-text-repr-fallback {display: none;}</style><div id=\"sk-container-id-3\" class=\"sk-top-container\"><div class=\"sk-text-repr-fallback\"><pre>Pipeline(steps=[(&#x27;preprocessor&#x27;,\n",
       "                 ColumnTransformer(transformers=[(&#x27;num&#x27;, StandardScaler(),\n",
       "                                                  [&#x27;previous_cancellations&#x27;,\n",
       "                                                   &#x27;booking_changes&#x27;,\n",
       "                                                   &#x27;days_in_waiting_list&#x27;,\n",
       "                                                   &#x27;required_car_parking_spaces&#x27;,\n",
       "                                                   &#x27;total_of_special_requests&#x27;]),\n",
       "                                                 (&#x27;cat&#x27;,\n",
       "                                                  OneHotEncoder(handle_unknown=&#x27;ignore&#x27;),\n",
       "                                                  [&#x27;country&#x27;, &#x27;market_segment&#x27;,\n",
       "                                                   &#x27;deposit_type&#x27;,\n",
       "                                                   &#x27;customer_type&#x27;,\n",
       "                                                   &#x27;reserved_room_type&#x27;])])),\n",
       "                (&#x27;classifier&#x27;,\n",
       "                 RandomForestClassifier(class_weight={0: 1, 1: 4},\n",
       "                                        random_state=42))])</pre><b>In a Jupyter environment, please rerun this cell to show the HTML representation or trust the notebook. <br />On GitHub, the HTML representation is unable to render, please try loading this page with nbviewer.org.</b></div><div class=\"sk-container\" hidden><div class=\"sk-item sk-dashed-wrapped\"><div class=\"sk-label-container\"><div class=\"sk-label sk-toggleable\"><input class=\"sk-toggleable__control sk-hidden--visually\" id=\"sk-estimator-id-15\" type=\"checkbox\" ><label for=\"sk-estimator-id-15\" class=\"sk-toggleable__label sk-toggleable__label-arrow\">Pipeline</label><div class=\"sk-toggleable__content\"><pre>Pipeline(steps=[(&#x27;preprocessor&#x27;,\n",
       "                 ColumnTransformer(transformers=[(&#x27;num&#x27;, StandardScaler(),\n",
       "                                                  [&#x27;previous_cancellations&#x27;,\n",
       "                                                   &#x27;booking_changes&#x27;,\n",
       "                                                   &#x27;days_in_waiting_list&#x27;,\n",
       "                                                   &#x27;required_car_parking_spaces&#x27;,\n",
       "                                                   &#x27;total_of_special_requests&#x27;]),\n",
       "                                                 (&#x27;cat&#x27;,\n",
       "                                                  OneHotEncoder(handle_unknown=&#x27;ignore&#x27;),\n",
       "                                                  [&#x27;country&#x27;, &#x27;market_segment&#x27;,\n",
       "                                                   &#x27;deposit_type&#x27;,\n",
       "                                                   &#x27;customer_type&#x27;,\n",
       "                                                   &#x27;reserved_room_type&#x27;])])),\n",
       "                (&#x27;classifier&#x27;,\n",
       "                 RandomForestClassifier(class_weight={0: 1, 1: 4},\n",
       "                                        random_state=42))])</pre></div></div></div><div class=\"sk-serial\"><div class=\"sk-item sk-dashed-wrapped\"><div class=\"sk-label-container\"><div class=\"sk-label sk-toggleable\"><input class=\"sk-toggleable__control sk-hidden--visually\" id=\"sk-estimator-id-16\" type=\"checkbox\" ><label for=\"sk-estimator-id-16\" class=\"sk-toggleable__label sk-toggleable__label-arrow\">preprocessor: ColumnTransformer</label><div class=\"sk-toggleable__content\"><pre>ColumnTransformer(transformers=[(&#x27;num&#x27;, StandardScaler(),\n",
       "                                 [&#x27;previous_cancellations&#x27;, &#x27;booking_changes&#x27;,\n",
       "                                  &#x27;days_in_waiting_list&#x27;,\n",
       "                                  &#x27;required_car_parking_spaces&#x27;,\n",
       "                                  &#x27;total_of_special_requests&#x27;]),\n",
       "                                (&#x27;cat&#x27;, OneHotEncoder(handle_unknown=&#x27;ignore&#x27;),\n",
       "                                 [&#x27;country&#x27;, &#x27;market_segment&#x27;, &#x27;deposit_type&#x27;,\n",
       "                                  &#x27;customer_type&#x27;, &#x27;reserved_room_type&#x27;])])</pre></div></div></div><div class=\"sk-parallel\"><div class=\"sk-parallel-item\"><div class=\"sk-item\"><div class=\"sk-label-container\"><div class=\"sk-label sk-toggleable\"><input class=\"sk-toggleable__control sk-hidden--visually\" id=\"sk-estimator-id-17\" type=\"checkbox\" ><label for=\"sk-estimator-id-17\" class=\"sk-toggleable__label sk-toggleable__label-arrow\">num</label><div class=\"sk-toggleable__content\"><pre>[&#x27;previous_cancellations&#x27;, &#x27;booking_changes&#x27;, &#x27;days_in_waiting_list&#x27;, &#x27;required_car_parking_spaces&#x27;, &#x27;total_of_special_requests&#x27;]</pre></div></div></div><div class=\"sk-serial\"><div class=\"sk-item\"><div class=\"sk-estimator sk-toggleable\"><input class=\"sk-toggleable__control sk-hidden--visually\" id=\"sk-estimator-id-18\" type=\"checkbox\" ><label for=\"sk-estimator-id-18\" class=\"sk-toggleable__label sk-toggleable__label-arrow\">StandardScaler</label><div class=\"sk-toggleable__content\"><pre>StandardScaler()</pre></div></div></div></div></div></div><div class=\"sk-parallel-item\"><div class=\"sk-item\"><div class=\"sk-label-container\"><div class=\"sk-label sk-toggleable\"><input class=\"sk-toggleable__control sk-hidden--visually\" id=\"sk-estimator-id-19\" type=\"checkbox\" ><label for=\"sk-estimator-id-19\" class=\"sk-toggleable__label sk-toggleable__label-arrow\">cat</label><div class=\"sk-toggleable__content\"><pre>[&#x27;country&#x27;, &#x27;market_segment&#x27;, &#x27;deposit_type&#x27;, &#x27;customer_type&#x27;, &#x27;reserved_room_type&#x27;]</pre></div></div></div><div class=\"sk-serial\"><div class=\"sk-item\"><div class=\"sk-estimator sk-toggleable\"><input class=\"sk-toggleable__control sk-hidden--visually\" id=\"sk-estimator-id-20\" type=\"checkbox\" ><label for=\"sk-estimator-id-20\" class=\"sk-toggleable__label sk-toggleable__label-arrow\">OneHotEncoder</label><div class=\"sk-toggleable__content\"><pre>OneHotEncoder(handle_unknown=&#x27;ignore&#x27;)</pre></div></div></div></div></div></div></div></div><div class=\"sk-item\"><div class=\"sk-estimator sk-toggleable\"><input class=\"sk-toggleable__control sk-hidden--visually\" id=\"sk-estimator-id-21\" type=\"checkbox\" ><label for=\"sk-estimator-id-21\" class=\"sk-toggleable__label sk-toggleable__label-arrow\">RandomForestClassifier</label><div class=\"sk-toggleable__content\"><pre>RandomForestClassifier(class_weight={0: 1, 1: 4}, random_state=42)</pre></div></div></div></div></div></div></div>"
      ],
      "text/plain": [
       "Pipeline(steps=[('preprocessor',\n",
       "                 ColumnTransformer(transformers=[('num', StandardScaler(),\n",
       "                                                  ['previous_cancellations',\n",
       "                                                   'booking_changes',\n",
       "                                                   'days_in_waiting_list',\n",
       "                                                   'required_car_parking_spaces',\n",
       "                                                   'total_of_special_requests']),\n",
       "                                                 ('cat',\n",
       "                                                  OneHotEncoder(handle_unknown='ignore'),\n",
       "                                                  ['country', 'market_segment',\n",
       "                                                   'deposit_type',\n",
       "                                                   'customer_type',\n",
       "                                                   'reserved_room_type'])])),\n",
       "                ('classifier',\n",
       "                 RandomForestClassifier(class_weight={0: 1, 1: 4},\n",
       "                                        random_state=42))])"
      ]
     },
     "execution_count": 103,
     "metadata": {},
     "output_type": "execute_result"
    }
   ],
   "source": [
    "model.fit(X_train, y_train)"
   ]
  },
  {
   "cell_type": "code",
   "execution_count": null,
   "metadata": {},
   "outputs": [
    {
     "name": "stdout",
     "output_type": "stream",
     "text": [
      "              precision    recall  f1-score   support\n",
      "\n",
      "           0       0.80      0.79      0.80      2306\n",
      "           1       0.36      0.36      0.36       719\n",
      "\n",
      "    accuracy                           0.69      3025\n",
      "   macro avg       0.58      0.58      0.58      3025\n",
      "weighted avg       0.69      0.69      0.69      3025\n",
      "\n",
      "ROC AUC Score: 0.7220026489523008\n"
     ]
    }
   ],
   "source": [
    "y_pred = model.predict(X_test)\n",
    "y_pred_proba = model.predict_proba(X_test)[:, 1]\n",
    "\n",
    "print(classification_report(y_test, y_pred))\n"
   ]
  },
  {
   "cell_type": "markdown",
   "metadata": {},
   "source": [
    "## Hyperparameter Tuning"
   ]
  },
  {
   "cell_type": "code",
   "execution_count": null,
   "metadata": {},
   "outputs": [
    {
     "name": "stderr",
     "output_type": "stream",
     "text": [
      "c:\\Users\\gpram\\anaconda3\\Lib\\site-packages\\sklearn\\base.py:1151: DataConversionWarning: A column-vector y was passed when a 1d array was expected. Please change the shape of y to (n_samples,), for example using ravel().\n",
      "  return fit_method(estimator, *args, **kwargs)\n"
     ]
    },
    {
     "name": "stdout",
     "output_type": "stream",
     "text": [
      "Best parameters: {'classifier__min_samples_split': 30, 'classifier__n_estimators': 100}\n"
     ]
    }
   ],
   "source": [
    "param_grid = {\n",
    "    'classifier__n_estimators': [100, 300, 500],\n",
    "    'classifier__min_samples_split': [2, 5, 10, 20, 30]\n",
    "}\n",
    "\n",
    "recall_scorer = make_scorer(recall_score, pos_label=1)\n",
    "grid_search = GridSearchCV(model, param_grid, cv=5, scoring=recall_scorer, n_jobs=-1)\n",
    "grid_search.fit(X_train, y_train)\n",
    "\n",
    "print(f'Best parameters: {grid_search.best_params_}')\n",
    "\n"
   ]
  },
  {
   "cell_type": "code",
   "execution_count": null,
   "metadata": {},
   "outputs": [
    {
     "name": "stderr",
     "output_type": "stream",
     "text": [
      "c:\\Users\\gpram\\anaconda3\\Lib\\site-packages\\sklearn\\base.py:1151: DataConversionWarning: A column-vector y was passed when a 1d array was expected. Please change the shape of y to (n_samples,), for example using ravel().\n",
      "  return fit_method(estimator, *args, **kwargs)\n"
     ]
    },
    {
     "name": "stdout",
     "output_type": "stream",
     "text": [
      "              precision    recall  f1-score   support\n",
      "\n",
      "           0       0.92      0.69      0.79      2306\n",
      "           1       0.45      0.82      0.58       719\n",
      "\n",
      "    accuracy                           0.72      3025\n",
      "   macro avg       0.69      0.75      0.69      3025\n",
      "weighted avg       0.81      0.72      0.74      3025\n",
      "\n"
     ]
    }
   ],
   "source": [
    "model.set_params(**grid_search.best_params_)\n",
    "model.fit(X_train, y_train)\n",
    "\n",
    "y_pred = model.predict(X_test)\n",
    "y_pred_proba = model.predict_proba(X_test)[:, 1]\n",
    "\n",
    "print(classification_report(y_test, y_pred))"
   ]
  },
  {
   "cell_type": "markdown",
   "metadata": {},
   "source": [
    "## Conclusion"
   ]
  },
  {
   "cell_type": "markdown",
   "metadata": {},
   "source": [
    "In conclusion, the machine learning model for predicting hotel cancellations demonstrated a high recall rate of 0.82 score in identifying a significant proportion of actual cancellation.\n",
    "\n",
    "The business impact of the model is as follows :\n",
    "For example, if \n",
    "the total number of bookings are 3025, \n",
    "the baseline cancellation rate is 30%, with revenue per booking at $100\n",
    "\n",
    "Without Model Prediction \n",
    "\n",
    "3025 x (1-0.3) x $100 = $211700\n",
    "\n",
    "With Model Prediciton \n",
    "If all the previously potentially cancelled booking predicted successfuly and willing to accept a 50% discount, then\n",
    "(3025 x (1-0.3) x $100) + (0.3 x 3025 x $50) = $257075\n",
    "\n",
    "Percentage increase\n",
    "$45375/$211700 = 21,4% increase in revenue"
   ]
  },
  {
   "cell_type": "markdown",
   "metadata": {},
   "source": [
    "### Limitation\n",
    "\n",
    "The model treats all time periods equally. However, cancellation patterns may vary seasonally, during holidays, or in response to external events. This could result in inaccurate predictions during peak cancellation periods or during certain emerging trends and patterns over time. Incorporating time-dependent features or time series analysis techniques could enhance the model's predictive accuracy.\n",
    "\n",
    "The current model may be based on a limited set of input features, potentially not including important predictors of booking cancellations. Features such as customer preferences, booking history, or external factors like economic conditions or travel restrictions may not be recorded. This could lead to poor performance and incomplete understanding of reasons for booking cancellation.\n",
    "\n",
    "The current model also have limitation to only be able to predict with good performance if the test data is already within the range of the trained dataset.\n",
    "\n",
    "- country: 162 countries in training dataset\n",
    "- market_segment: Offline TA/TO, Online TA, Direct, Groups, Corporate, Complementary, Aviation\t\t\n",
    "- previous_cancellations: 0 - 26\n",
    "- booking_changes:  0-21\t\n",
    "- deposit_type:  No Deposit, Non Refund, Refundable\t\n",
    "- days_in_waiting_list: 0-391\t\n",
    "- customer_type: Transient-Party, Transient, Contract, Group\n",
    "- reserved_room_type: A, E, D, F, B, G, C, H, L, P\n",
    "- required_car_parking_space: 0-8\t\n",
    "- total_of_special_request: 0-5\n"
   ]
  },
  {
   "cell_type": "markdown",
   "metadata": {},
   "source": [
    "### Recommendation\n",
    "\n",
    "Establish a schedule for periodically retraining the cancellation prediction model on fresh data to capture evolving patterns and trends in booking cancellations.\n",
    "\n",
    "Perform periodic checks to ensure the quality of  future input data sources. Address any inconsistencies, missing values, or data anomalies to maintain the reliability of the model's predictions.\n",
    "\n",
    "Continuously assess the relevance and effectiveness of input features. Introduce new features or remove irrelevant ones based on current conditions and insights from data analysis."
   ]
  },
  {
   "cell_type": "code",
   "execution_count": 130,
   "metadata": {},
   "outputs": [],
   "source": [
    "import pickle\n",
    "with open('trained_model.pkl', 'wb') as file:\n",
    "    pickle.dump(model, file)"
   ]
  }
 ],
 "metadata": {
  "kernelspec": {
   "display_name": "base",
   "language": "python",
   "name": "python3"
  },
  "language_info": {
   "codemirror_mode": {
    "name": "ipython",
    "version": 3
   },
   "file_extension": ".py",
   "mimetype": "text/x-python",
   "name": "python",
   "nbconvert_exporter": "python",
   "pygments_lexer": "ipython3",
   "version": "3.11.5"
  }
 },
 "nbformat": 4,
 "nbformat_minor": 2
}
